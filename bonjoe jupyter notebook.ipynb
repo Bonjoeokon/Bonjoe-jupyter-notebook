{
 "cells": [
  {
   "cell_type": "markdown",
   "id": "9d3b8913",
   "metadata": {},
   "source": [
    "# My Jupyter Notebook on IBM Watson Studio"
   ]
  },
  {
   "cell_type": "markdown",
   "id": "a2b0d491",
   "metadata": {},
   "source": [
    "<b> Boniface Okon\n",
    "    \n",
    "medical practitioner"
   ]
  },
  {
   "cell_type": "markdown",
   "id": "4873f358",
   "metadata": {},
   "source": [
    "*I'm interested in data science because of its applications in the health industry by creating models that key into this area*."
   ]
  },
  {
   "cell_type": "markdown",
   "id": "b51170a7",
   "metadata": {},
   "source": [
    "### This code shows the result with quadratic formulae"
   ]
  },
  {
   "cell_type": "code",
   "execution_count": 1,
   "id": "33b46f68",
   "metadata": {},
   "outputs": [
    {
     "name": "stdout",
     "output_type": "stream",
     "text": [
      "(-3+2.6457513110645907j)\n",
      "(-3-2.6457513110645907j)\n"
     ]
    }
   ],
   "source": [
    "a =2\n",
    "b =3\n",
    "c =1\n",
    "print(-3+(3^2-4*2*1)**(1/2)/2*2)\n",
    "print(-3-(3^2-4*2*1)**(1/2)/2*2)\n"
   ]
  },
  {
   "attachments": {
    "ma%20city%20logo%202.png": {
     "image/png": "[encoded data removed]"
    }
   },
   "cell_type": "markdown",
   "id": "2d33f73e",
   "metadata": {},
   "source": [
    "1. The coach has much work to do\n",
    "* the players need to train everyday\n",
    "\n",
    "     He's the best coach for the week\n",
    "     ___________\n",
    "  \n",
    "\n",
    "![ma%20city%20logo%202.png](attachment:ma%20city%20logo%202.png)\n",
    "\n",
    "(https://www.mancity.com)\n",
    "\n",
    "|Name of players||Age||Salary|\n",
    "|----           ||---||------|\n",
    "|Ikay Gundogan  ||30||140,000|\n",
    "|kevin de Bruyne||31||400,000|\n",
    "|erling Haaland ||21||375,000|"
   ]
  }
 ],
 "metadata": {
  "kernelspec": {
   "display_name": "Python 3 (ipykernel)",
   "language": "python",
   "name": "python3"
  },
  "language_info": {
   "codemirror_mode": {
    "name": "ipython",
    "version": 3
   },
   "file_extension": ".py",
   "mimetype": "text/x-python",
   "name": "python",
   "nbconvert_exporter": "python",
   "pygments_lexer": "ipython3",
   "version": "3.9.12"
  }
 },
 "nbformat": 4,
 "nbformat_minor": 5
}
